{
  "nbformat": 4,
  "nbformat_minor": 0,
  "metadata": {
    "colab": {
      "provenance": [],
      "mount_file_id": "1_7fQYELnp3d1ettLUjuPdEuWokoRliyr",
      "authorship_tag": "ABX9TyMToATof7vchyO1o9yoHv63",
      "include_colab_link": true
    },
    "kernelspec": {
      "name": "python3",
      "display_name": "Python 3"
    },
    "language_info": {
      "name": "python"
    }
  },
  "cells": [
    {
      "cell_type": "markdown",
      "metadata": {
        "id": "view-in-github",
        "colab_type": "text"
      },
      "source": [
        "<a href=\"https://colab.research.google.com/github/PraveenAnanth5451/Deep_Learning_Projects/blob/main/MNIST_Digit_Classification.ipynb\" target=\"_parent\"><img src=\"https://colab.research.google.com/assets/colab-badge.svg\" alt=\"Open In Colab\"/></a>"
      ]
    },
    {
      "cell_type": "markdown",
      "source": [
        "**MNIST Handwritten Digit Classification using Deep Learning (Neural Network)**"
      ],
      "metadata": {
        "id": "JKPs1poN8A3n"
      }
    },
    {
      "cell_type": "code",
      "execution_count": 53,
      "metadata": {
        "id": "iPbRvJ2V74Ts"
      },
      "outputs": [],
      "source": [
        "# import the dependencies\n",
        "import numpy as np\n",
        "import pandas as pd\n",
        "import seaborn as sns\n",
        "import cv2\n",
        "from google.colab.patches import cv2_imshow\n",
        "import matplotlib.pyplot as plt\n",
        "from PIL import Image\n",
        "import tensorflow as tf\n",
        "tf.random.set_seed(42)\n",
        "from tensorflow import keras\n",
        "from keras.datasets import mnist\n",
        "from tensorflow.math import confusion_matrix"
      ]
    },
    {
      "cell_type": "markdown",
      "source": [
        "Loading the MNIST data from keras"
      ],
      "metadata": {
        "id": "hv9mivCO9Ft2"
      }
    },
    {
      "cell_type": "code",
      "source": [
        "(X_train, y_train),(X_test, y_test) = mnist.load_data()"
      ],
      "metadata": {
        "id": "xXgsQIif9ER_"
      },
      "execution_count": 54,
      "outputs": []
    },
    {
      "cell_type": "code",
      "source": [
        "type(X_train)"
      ],
      "metadata": {
        "colab": {
          "base_uri": "https://localhost:8080/"
        },
        "id": "34cngEH59n2K",
        "outputId": "121e8e46-48a4-41a3-f8e4-a25781c84154"
      },
      "execution_count": 55,
      "outputs": [
        {
          "output_type": "execute_result",
          "data": {
            "text/plain": [
              "numpy.ndarray"
            ]
          },
          "metadata": {},
          "execution_count": 55
        }
      ]
    },
    {
      "cell_type": "code",
      "source": [
        "# shape of the numpy array\n",
        "X_train.shape , X_test.shape, y_train.shape, y_test.shape"
      ],
      "metadata": {
        "colab": {
          "base_uri": "https://localhost:8080/"
        },
        "id": "hFj8mbcW9qK2",
        "outputId": "8b9e020e-0c5c-4ad8-f764-9dd4dc76062c"
      },
      "execution_count": 56,
      "outputs": [
        {
          "output_type": "execute_result",
          "data": {
            "text/plain": [
              "((60000, 28, 28), (10000, 28, 28), (60000,), (10000,))"
            ]
          },
          "metadata": {},
          "execution_count": 56
        }
      ]
    },
    {
      "cell_type": "markdown",
      "source": [
        "Training data = 60,000 images\n",
        "Test data = 10,000 images\n",
        "\n",
        "Image dimension = 28 x 28\n",
        "GrayScale Image = 1 channel"
      ],
      "metadata": {
        "id": "7HVAnyqd-ZPe"
      }
    },
    {
      "cell_type": "code",
      "source": [
        "# Printing 10th image\n",
        "print(X_train[11])"
      ],
      "metadata": {
        "colab": {
          "base_uri": "https://localhost:8080/"
        },
        "id": "4wPkm7rB9192",
        "outputId": "b0f85a02-021c-4804-ee47-efbddedb3454"
      },
      "execution_count": 57,
      "outputs": [
        {
          "output_type": "stream",
          "name": "stdout",
          "text": [
            "[[  0   0   0   0   0   0   0   0   0   0   0   0   0   0   0   0   0   0\n",
            "    0   0   0   0   0   0   0   0   0   0]\n",
            " [  0   0   0   0   0   0   0   0   0   0   0   0   0   0   0   0   0   0\n",
            "    0   0   0   0   0   0   0   0   0   0]\n",
            " [  0   0   0   0   0   0   0   0   0   0   0   0   0   0   0   0   0   0\n",
            "    0   0   0   0   0   0   0   0   0   0]\n",
            " [  0   0   0   0   0   0   0   0   0   0   0   0   0   0   0   0   0   0\n",
            "    0   0   0   0   0   0   0   0   0   0]\n",
            " [  0   0   0   0   0   0   0   0   0   0   0   0   0   0   0   0   0   0\n",
            "    0   0   0   0   0   0   0   0   0   0]\n",
            " [  0   0   0   0   0   0   0   0   0   0   0   0   0   0   0   0   0   0\n",
            "    0   0   0   0   0   0   0   0   0   0]\n",
            " [  0   0   0   0   0   0   0   0   0   0   0   0   0   0   0   0   0   0\n",
            "    0   0   0   0   0   0   0   0   0   0]\n",
            " [  0   0   0   0   0   0   0   0   0   0   0   0   0   0   0   0   0   0\n",
            "    0   0  31  40 129 234 234 159   0   0]\n",
            " [  0   0   0   0   0   0   0   0   0   0   0   0   0   0   0   0   0   0\n",
            "   68 150 239 254 253 253 253 215   0   0]\n",
            " [  0   0   0   0   0   0   0   0   0   0   0   0   0   0   0   0 156 201\n",
            "  254 254 254 241 150  98   8   0   0   0]\n",
            " [  0   0   0   0   0   0   0   0   0   0   0   0   0   0  19 154 254 236\n",
            "  203  83  39  30   0   0   0   0   0   0]\n",
            " [  0   0   0   0   0   0   0   0   0   0   0   0   0   0 144 253 145  12\n",
            "    0   0   0   0   0   0   0   0   0   0]\n",
            " [  0   0   0   0   0   0   0   0   0   0   0  10 129 222  78  79   8   0\n",
            "    0   0   0   0   0   0   0   0   0   0]\n",
            " [  0   0   0   0   0   0   0   0   0   0   0 134 253 167   8   0   0   0\n",
            "    0   0   0   0   0   0   0   0   0   0]\n",
            " [  0   0   0   0   0   0   0   0   0   0   0 255 254  78   0   0   0   0\n",
            "    0   0   0   0   0   0   0   0   0   0]\n",
            " [  0   0   0   0   0   0   0   0   0   0   0 201 253 226  69   0   0   0\n",
            "    0   0   0   0   0   0   0   0   0   0]\n",
            " [  0   0   0   0   0   0   0   0  55   6   0  18 128 253 241  41   0   0\n",
            "    0   0   0   0   0   0   0   0   0   0]\n",
            " [  0   0   0   0   0   0  25 205 235  92   0   0  20 253 253  58   0   0\n",
            "    0   0   0   0   0   0   0   0   0   0]\n",
            " [  0   0   0   0   0   0 231 245 108   0   0   0 132 253 185  14   0   0\n",
            "    0   0   0   0   0   0   0   0   0   0]\n",
            " [  0   0   0   0   0   0 121 245 254 254 254 217 254 223  50   0   0   0\n",
            "    0   0   0   0   0   0   0   0   0   0]\n",
            " [  0   0   0   0   0   0   0 116 165 233 233 234 180  39   3   0   0   0\n",
            "    0   0   0   0   0   0   0   0   0   0]\n",
            " [  0   0   0   0   0   0   0   0   0   0   0   0   0   0   0   0   0   0\n",
            "    0   0   0   0   0   0   0   0   0   0]\n",
            " [  0   0   0   0   0   0   0   0   0   0   0   0   0   0   0   0   0   0\n",
            "    0   0   0   0   0   0   0   0   0   0]\n",
            " [  0   0   0   0   0   0   0   0   0   0   0   0   0   0   0   0   0   0\n",
            "    0   0   0   0   0   0   0   0   0   0]\n",
            " [  0   0   0   0   0   0   0   0   0   0   0   0   0   0   0   0   0   0\n",
            "    0   0   0   0   0   0   0   0   0   0]\n",
            " [  0   0   0   0   0   0   0   0   0   0   0   0   0   0   0   0   0   0\n",
            "    0   0   0   0   0   0   0   0   0   0]\n",
            " [  0   0   0   0   0   0   0   0   0   0   0   0   0   0   0   0   0   0\n",
            "    0   0   0   0   0   0   0   0   0   0]\n",
            " [  0   0   0   0   0   0   0   0   0   0   0   0   0   0   0   0   0   0\n",
            "    0   0   0   0   0   0   0   0   0   0]]\n"
          ]
        }
      ]
    },
    {
      "cell_type": "code",
      "source": [
        "plt.imshow(X_train[11])\n",
        "plt.show()\n",
        "\n",
        "# Print the corresponding labels\n",
        "print(y_train[11])"
      ],
      "metadata": {
        "colab": {
          "base_uri": "https://localhost:8080/",
          "height": 447
        },
        "id": "WXwlBgtG-5Q8",
        "outputId": "19261ba2-69d4-4c0b-8b48-0933cf55f99f"
      },
      "execution_count": 58,
      "outputs": [
        {
          "output_type": "display_data",
          "data": {
            "text/plain": [
              "<Figure size 640x480 with 1 Axes>"
            ],
            "image/png": "[encoded data removed]"
          },
          "metadata": {}
        },
        {
          "output_type": "stream",
          "name": "stdout",
          "text": [
            "5\n"
          ]
        }
      ]
    },
    {
      "cell_type": "markdown",
      "source": [
        "Image labels"
      ],
      "metadata": {
        "id": "IvCiKyVw_SWS"
      }
    },
    {
      "cell_type": "code",
      "source": [
        "print(y_train.shape, y_test.shape)"
      ],
      "metadata": {
        "colab": {
          "base_uri": "https://localhost:8080/"
        },
        "id": "fFPZe-XP-9Nm",
        "outputId": "842b8e44-9ba5-4df0-81ed-647dd466a917"
      },
      "execution_count": 59,
      "outputs": [
        {
          "output_type": "stream",
          "name": "stdout",
          "text": [
            "(60000,) (10000,)\n"
          ]
        }
      ]
    },
    {
      "cell_type": "code",
      "source": [
        "# Unique values in y_train\n",
        "print(np.unique(y_train))\n",
        "print(np.unique(y_test))"
      ],
      "metadata": {
        "colab": {
          "base_uri": "https://localhost:8080/"
        },
        "id": "_kpYNjeH_YJI",
        "outputId": "5036c71e-4d69-4e52-9e2a-32ea849bb80a"
      },
      "execution_count": 60,
      "outputs": [
        {
          "output_type": "stream",
          "name": "stdout",
          "text": [
            "[0 1 2 3 4 5 6 7 8 9]\n",
            "[0 1 2 3 4 5 6 7 8 9]\n"
          ]
        }
      ]
    },
    {
      "cell_type": "markdown",
      "source": [
        "We can use these labels as such or we can also apply one-hot encoding"
      ],
      "metadata": {
        "id": "bVwl6J4I_ocq"
      }
    },
    {
      "cell_type": "markdown",
      "source": [
        "All the images have the same dimensions in this dataset, If not, we have to resize all the images to common dimensions"
      ],
      "metadata": {
        "id": "saxU8HDR_gYH"
      }
    },
    {
      "cell_type": "code",
      "source": [
        "# Scalling the values\n",
        "X_train = X_train/255\n",
        "X_test = X_test/255"
      ],
      "metadata": {
        "id": "BU1mOP5KAGAu"
      },
      "execution_count": 61,
      "outputs": []
    },
    {
      "cell_type": "code",
      "source": [
        "print(X_train[10])"
      ],
      "metadata": {
        "colab": {
          "base_uri": "https://localhost:8080/"
        },
        "id": "n-A3HyrvATc3",
        "outputId": "9359a1b7-4df4-4758-d573-2a1ae4a4940c"
      },
      "execution_count": 62,
      "outputs": [
        {
          "output_type": "stream",
          "name": "stdout",
          "text": [
            "[[0.         0.         0.         0.         0.         0.\n",
            "  0.         0.         0.         0.         0.         0.\n",
            "  0.         0.         0.         0.         0.         0.\n",
            "  0.         0.         0.         0.         0.         0.\n",
            "  0.         0.         0.         0.        ]\n",
            " [0.         0.         0.         0.         0.         0.\n",
            "  0.         0.         0.         0.         0.         0.\n",
            "  0.         0.         0.         0.         0.         0.\n",
            "  0.         0.         0.         0.         0.         0.\n",
            "  0.         0.         0.         0.        ]\n",
            " [0.         0.         0.         0.         0.         0.\n",
            "  0.         0.         0.         0.         0.         0.\n",
            "  0.         0.         0.         0.         0.         0.\n",
            "  0.         0.         0.         0.         0.         0.\n",
            "  0.         0.         0.         0.        ]\n",
            " [0.         0.         0.         0.         0.         0.\n",
            "  0.         0.         0.         0.         0.         0.\n",
            "  0.         0.         0.         0.         0.         0.\n",
            "  0.         0.         0.         0.         0.         0.\n",
            "  0.         0.         0.         0.        ]\n",
            " [0.         0.         0.         0.         0.         0.\n",
            "  0.         0.         0.         0.         0.         0.16470588\n",
            "  0.4627451  0.85882353 0.65098039 0.4627451  0.4627451  0.02352941\n",
            "  0.         0.         0.         0.         0.         0.\n",
            "  0.         0.         0.         0.        ]\n",
            " [0.         0.         0.         0.         0.         0.\n",
            "  0.         0.         0.         0.         0.40392157 0.94901961\n",
            "  0.99607843 0.99607843 0.99607843 0.99607843 0.99607843 0.25882353\n",
            "  0.         0.         0.         0.         0.         0.\n",
            "  0.         0.         0.         0.        ]\n",
            " [0.         0.         0.         0.         0.         0.\n",
            "  0.         0.         0.         0.         0.07058824 0.90980392\n",
            "  0.99607843 0.99607843 0.99607843 0.99607843 0.99607843 0.93333333\n",
            "  0.2745098  0.         0.         0.         0.         0.\n",
            "  0.         0.         0.         0.        ]\n",
            " [0.         0.         0.         0.         0.         0.\n",
            "  0.         0.         0.         0.         0.         0.40784314\n",
            "  0.95686275 0.99607843 0.87843137 0.99607843 0.99607843 0.99607843\n",
            "  0.55294118 0.         0.         0.         0.         0.\n",
            "  0.         0.         0.         0.        ]\n",
            " [0.         0.         0.         0.         0.         0.\n",
            "  0.         0.         0.         0.         0.         0.\n",
            "  0.81176471 0.99607843 0.82352941 0.99607843 0.99607843 0.99607843\n",
            "  0.13333333 0.         0.         0.         0.         0.\n",
            "  0.         0.         0.         0.        ]\n",
            " [0.         0.         0.         0.         0.         0.\n",
            "  0.         0.         0.         0.         0.         0.\n",
            "  0.32941176 0.80784314 0.99607843 0.99607843 0.99607843 0.99607843\n",
            "  0.16078431 0.         0.         0.         0.         0.\n",
            "  0.         0.         0.         0.        ]\n",
            " [0.         0.         0.         0.         0.         0.\n",
            "  0.         0.         0.         0.         0.         0.\n",
            "  0.         0.09411765 0.81960784 0.99607843 0.99607843 0.99607843\n",
            "  0.67058824 0.         0.         0.         0.         0.\n",
            "  0.         0.         0.         0.        ]\n",
            " [0.         0.         0.         0.         0.         0.\n",
            "  0.         0.         0.         0.         0.         0.\n",
            "  0.35686275 0.5372549  0.99215686 0.99607843 0.99607843 0.99607843\n",
            "  0.43921569 0.         0.         0.         0.         0.\n",
            "  0.         0.         0.         0.        ]\n",
            " [0.         0.         0.         0.         0.         0.\n",
            "  0.         0.         0.         0.         0.15686275 0.83921569\n",
            "  0.98039216 0.99607843 0.99607843 0.99607843 0.99607843 0.99607843\n",
            "  0.13333333 0.         0.         0.         0.         0.\n",
            "  0.         0.         0.         0.        ]\n",
            " [0.         0.         0.         0.         0.         0.\n",
            "  0.         0.         0.         0.         0.31764706 0.96862745\n",
            "  0.99607843 0.99607843 0.99607843 0.99607843 0.99607843 0.99607843\n",
            "  0.57254902 0.         0.         0.         0.         0.\n",
            "  0.         0.         0.         0.        ]\n",
            " [0.         0.         0.         0.         0.         0.\n",
            "  0.         0.         0.         0.         0.         0.43137255\n",
            "  0.96470588 0.99607843 0.99607843 0.99607843 0.99607843 0.99607843\n",
            "  0.67058824 0.         0.         0.         0.         0.\n",
            "  0.         0.         0.         0.        ]\n",
            " [0.         0.         0.         0.         0.         0.\n",
            "  0.         0.         0.         0.         0.         0.\n",
            "  0.28627451 0.34901961 0.34901961 0.36470588 0.94117647 0.99607843\n",
            "  0.67058824 0.         0.         0.         0.         0.\n",
            "  0.         0.         0.         0.        ]\n",
            " [0.         0.         0.         0.         0.         0.\n",
            "  0.         0.         0.         0.         0.         0.\n",
            "  0.         0.         0.         0.00392157 0.50196078 0.99607843\n",
            "  0.85882353 0.12156863 0.         0.         0.         0.\n",
            "  0.         0.         0.         0.        ]\n",
            " [0.         0.         0.         0.         0.         0.\n",
            "  0.         0.         0.         0.         0.         0.\n",
            "  0.         0.         0.         0.02745098 0.99607843 0.99607843\n",
            "  0.83921569 0.10980392 0.         0.         0.         0.\n",
            "  0.         0.         0.         0.        ]\n",
            " [0.         0.         0.         0.         0.         0.\n",
            "  0.         0.         0.         0.         0.         0.\n",
            "  0.         0.         0.         0.54117647 0.99607843 0.99607843\n",
            "  0.45490196 0.         0.         0.         0.         0.\n",
            "  0.         0.         0.         0.        ]\n",
            " [0.         0.         0.         0.         0.         0.\n",
            "  0.0745098  0.69411765 0.35294118 0.         0.         0.\n",
            "  0.         0.         0.09803922 0.94117647 0.99607843 0.99607843\n",
            "  0.13333333 0.         0.         0.         0.         0.\n",
            "  0.         0.         0.         0.        ]\n",
            " [0.         0.         0.         0.         0.         0.\n",
            "  0.64313725 0.99607843 0.84313725 0.24705882 0.14117647 0.\n",
            "  0.2        0.34901961 0.80784314 0.99607843 0.99607843 0.54509804\n",
            "  0.03137255 0.         0.         0.         0.         0.\n",
            "  0.         0.         0.         0.        ]\n",
            " [0.         0.         0.         0.         0.         0.\n",
            "  0.22352941 0.77254902 0.99607843 0.99607843 0.87058824 0.70588235\n",
            "  0.94509804 0.99607843 0.99607843 0.99215686 0.83529412 0.04313725\n",
            "  0.         0.         0.         0.         0.         0.\n",
            "  0.         0.         0.         0.        ]\n",
            " [0.         0.         0.         0.         0.         0.\n",
            "  0.         0.54901961 0.41176471 0.99607843 0.99607843 0.99607843\n",
            "  0.99607843 0.99607843 0.99607843 0.9254902  0.         0.\n",
            "  0.         0.         0.         0.         0.         0.\n",
            "  0.         0.         0.         0.        ]\n",
            " [0.         0.         0.         0.         0.         0.\n",
            "  0.         0.         0.02745098 0.45882353 0.45882353 0.64705882\n",
            "  0.99607843 0.99607843 0.9372549  0.19607843 0.         0.\n",
            "  0.         0.         0.         0.         0.         0.\n",
            "  0.         0.         0.         0.        ]\n",
            " [0.         0.         0.         0.         0.         0.\n",
            "  0.         0.         0.         0.         0.         0.\n",
            "  0.         0.         0.         0.         0.         0.\n",
            "  0.         0.         0.         0.         0.         0.\n",
            "  0.         0.         0.         0.        ]\n",
            " [0.         0.         0.         0.         0.         0.\n",
            "  0.         0.         0.         0.         0.         0.\n",
            "  0.         0.         0.         0.         0.         0.\n",
            "  0.         0.         0.         0.         0.         0.\n",
            "  0.         0.         0.         0.        ]\n",
            " [0.         0.         0.         0.         0.         0.\n",
            "  0.         0.         0.         0.         0.         0.\n",
            "  0.         0.         0.         0.         0.         0.\n",
            "  0.         0.         0.         0.         0.         0.\n",
            "  0.         0.         0.         0.        ]\n",
            " [0.         0.         0.         0.         0.         0.\n",
            "  0.         0.         0.         0.         0.         0.\n",
            "  0.         0.         0.         0.         0.         0.\n",
            "  0.         0.         0.         0.         0.         0.\n",
            "  0.         0.         0.         0.        ]]\n"
          ]
        }
      ]
    },
    {
      "cell_type": "markdown",
      "source": [
        "Building a Neural Network"
      ],
      "metadata": {
        "id": "OAdHrQQ3Atve"
      }
    },
    {
      "cell_type": "code",
      "source": [
        "# setting up the layers of the Neural Networks\n",
        "model = keras.Sequential([\n",
        "    keras.layers.Input(shape = (28,28)),\n",
        "    keras.layers.Flatten(),\n",
        "    keras.layers.Dense(50, activation = \"relu\"),\n",
        "    keras.layers.Dense(50, activation =\"relu\"),\n",
        "    keras.layers.Dense(10, activation = \"sigmoid\")\n",
        "])\n",
        "\n",
        "# Compiling the neural network\n",
        "model.compile(loss = keras.losses.SparseCategoricalCrossentropy(), optimizer = keras.optimizers.Adam(),\n",
        "              metrics = [\"accuracy\"])\n",
        "# Training the neural network\n",
        "history = model.fit(X_train, y_train, epochs = 10)"
      ],
      "metadata": {
        "colab": {
          "base_uri": "https://localhost:8080/"
        },
        "id": "TiGegMxOAo0L",
        "outputId": "fede4bf0-063a-4f6d-feb0-a8ef6b78101c"
      },
      "execution_count": 63,
      "outputs": [
        {
          "output_type": "stream",
          "name": "stdout",
          "text": [
            "Epoch 1/10\n",
            "\u001b[1m1875/1875\u001b[0m \u001b[32m━━━━━━━━━━━━━━━━━━━━\u001b[0m\u001b[37m\u001b[0m \u001b[1m7s\u001b[0m 3ms/step - accuracy: 0.8541 - loss: 0.5101\n",
            "Epoch 2/10\n",
            "\u001b[1m1875/1875\u001b[0m \u001b[32m━━━━━━━━━━━━━━━━━━━━\u001b[0m\u001b[37m\u001b[0m \u001b[1m5s\u001b[0m 2ms/step - accuracy: 0.9566 - loss: 0.1494\n",
            "Epoch 3/10\n",
            "\u001b[1m1875/1875\u001b[0m \u001b[32m━━━━━━━━━━━━━━━━━━━━\u001b[0m\u001b[37m\u001b[0m \u001b[1m6s\u001b[0m 3ms/step - accuracy: 0.9690 - loss: 0.1067\n",
            "Epoch 4/10\n",
            "\u001b[1m1875/1875\u001b[0m \u001b[32m━━━━━━━━━━━━━━━━━━━━\u001b[0m\u001b[37m\u001b[0m \u001b[1m6s\u001b[0m 3ms/step - accuracy: 0.9749 - loss: 0.0841\n",
            "Epoch 5/10\n",
            "\u001b[1m1875/1875\u001b[0m \u001b[32m━━━━━━━━━━━━━━━━━━━━\u001b[0m\u001b[37m\u001b[0m \u001b[1m5s\u001b[0m 2ms/step - accuracy: 0.9801 - loss: 0.0677\n",
            "Epoch 6/10\n",
            "\u001b[1m1875/1875\u001b[0m \u001b[32m━━━━━━━━━━━━━━━━━━━━\u001b[0m\u001b[37m\u001b[0m \u001b[1m8s\u001b[0m 4ms/step - accuracy: 0.9832 - loss: 0.0559\n",
            "Epoch 7/10\n",
            "\u001b[1m1875/1875\u001b[0m \u001b[32m━━━━━━━━━━━━━━━━━━━━\u001b[0m\u001b[37m\u001b[0m \u001b[1m5s\u001b[0m 3ms/step - accuracy: 0.9865 - loss: 0.0469\n",
            "Epoch 8/10\n",
            "\u001b[1m1875/1875\u001b[0m \u001b[32m━━━━━━━━━━━━━━━━━━━━\u001b[0m\u001b[37m\u001b[0m \u001b[1m7s\u001b[0m 4ms/step - accuracy: 0.9885 - loss: 0.0394\n",
            "Epoch 9/10\n",
            "\u001b[1m1875/1875\u001b[0m \u001b[32m━━━━━━━━━━━━━━━━━━━━\u001b[0m\u001b[37m\u001b[0m \u001b[1m5s\u001b[0m 3ms/step - accuracy: 0.9894 - loss: 0.0346\n",
            "Epoch 10/10\n",
            "\u001b[1m1875/1875\u001b[0m \u001b[32m━━━━━━━━━━━━━━━━━━━━\u001b[0m\u001b[37m\u001b[0m \u001b[1m5s\u001b[0m 3ms/step - accuracy: 0.9908 - loss: 0.0301\n"
          ]
        }
      ]
    },
    {
      "cell_type": "markdown",
      "source": [
        "Training data accuracy is 99%"
      ],
      "metadata": {
        "id": "rnLuwybUDyZj"
      }
    },
    {
      "cell_type": "code",
      "source": [
        "loss, accuracy = model.evaluate(X_test, y_test)\n",
        "print(\"accuracy :\",accuracy)"
      ],
      "metadata": {
        "colab": {
          "base_uri": "https://localhost:8080/"
        },
        "id": "jLjJvjFyC4lC",
        "outputId": "4993a353-68d4-4cfc-a37f-dd83e462bd85"
      },
      "execution_count": 64,
      "outputs": [
        {
          "output_type": "stream",
          "name": "stdout",
          "text": [
            "\u001b[1m313/313\u001b[0m \u001b[32m━━━━━━━━━━━━━━━━━━━━\u001b[0m\u001b[37m\u001b[0m \u001b[1m1s\u001b[0m 3ms/step - accuracy: 0.9683 - loss: 0.1167\n",
            "accuracy : 0.9726999998092651\n"
          ]
        }
      ]
    },
    {
      "cell_type": "code",
      "source": [
        "print(X_test.shape)"
      ],
      "metadata": {
        "colab": {
          "base_uri": "https://localhost:8080/"
        },
        "id": "5dHhLm2lD-OD",
        "outputId": "4a2b17f8-6e2e-4913-ca72-1a233bfaba08"
      },
      "execution_count": 65,
      "outputs": [
        {
          "output_type": "stream",
          "name": "stdout",
          "text": [
            "(10000, 28, 28)\n"
          ]
        }
      ]
    },
    {
      "cell_type": "code",
      "source": [
        "# first data point in X_test\n",
        "plt.imshow(X_test[0])\n",
        "plt.show()\n",
        "print(y_test[0])"
      ],
      "metadata": {
        "colab": {
          "base_uri": "https://localhost:8080/",
          "height": 447
        },
        "id": "6xsoQDmzENes",
        "outputId": "ef6b4c2e-b73c-4c62-9c5f-a6c0e0ac221b"
      },
      "execution_count": 66,
      "outputs": [
        {
          "output_type": "display_data",
          "data": {
            "text/plain": [
              "<Figure size 640x480 with 1 Axes>"
            ],
            "image/png": "[encoded data removed]"
          },
          "metadata": {}
        },
        {
          "output_type": "stream",
          "name": "stdout",
          "text": [
            "7\n"
          ]
        }
      ]
    },
    {
      "cell_type": "code",
      "source": [
        "y_pred = model.predict(X_test)"
      ],
      "metadata": {
        "colab": {
          "base_uri": "https://localhost:8080/"
        },
        "id": "6oULZZLZEWGx",
        "outputId": "be9145c7-a4f1-4f03-ddc0-89b1cfc4762b"
      },
      "execution_count": 67,
      "outputs": [
        {
          "output_type": "stream",
          "name": "stdout",
          "text": [
            "\u001b[1m313/313\u001b[0m \u001b[32m━━━━━━━━━━━━━━━━━━━━\u001b[0m\u001b[37m\u001b[0m \u001b[1m1s\u001b[0m 2ms/step\n"
          ]
        }
      ]
    },
    {
      "cell_type": "code",
      "source": [
        "y_pred.shape"
      ],
      "metadata": {
        "colab": {
          "base_uri": "https://localhost:8080/"
        },
        "id": "QdgyPARTElip",
        "outputId": "a2c4043a-9899-45e2-83f4-60a00aa7806b"
      },
      "execution_count": 68,
      "outputs": [
        {
          "output_type": "execute_result",
          "data": {
            "text/plain": [
              "(10000, 10)"
            ]
          },
          "metadata": {},
          "execution_count": 68
        }
      ]
    },
    {
      "cell_type": "code",
      "source": [
        "y_pred[0]"
      ],
      "metadata": {
        "colab": {
          "base_uri": "https://localhost:8080/"
        },
        "id": "7lyqdrpbEnDe",
        "outputId": "c8ed608b-d2dc-4cce-b7f1-09768b1939a5"
      },
      "execution_count": 69,
      "outputs": [
        {
          "output_type": "execute_result",
          "data": {
            "text/plain": [
              "array([1.5181208e-05, 1.5026133e-07, 4.5670711e-02, 8.7166458e-01,\n",
              "       2.0528412e-12, 3.4367375e-04, 7.3896522e-10, 9.9999017e-01,\n",
              "       2.4163131e-02, 4.1766063e-05], dtype=float32)"
            ]
          },
          "metadata": {},
          "execution_count": 69
        }
      ]
    },
    {
      "cell_type": "markdown",
      "source": [
        "model.predict() gives the probability of each class for that data point"
      ],
      "metadata": {
        "id": "6d18tID9Eyfe"
      }
    },
    {
      "cell_type": "code",
      "source": [
        "# Converting the prediction probabilities to class labels\n",
        "label_for_first_image = np.argmax(y_pred[0])\n",
        "label_for_first_image"
      ],
      "metadata": {
        "colab": {
          "base_uri": "https://localhost:8080/"
        },
        "id": "xsiQAE0NEwAd",
        "outputId": "75e4682e-edfc-4f45-f3df-c7a024af4726"
      },
      "execution_count": 70,
      "outputs": [
        {
          "output_type": "execute_result",
          "data": {
            "text/plain": [
              "np.int64(7)"
            ]
          },
          "metadata": {},
          "execution_count": 70
        }
      ]
    },
    {
      "cell_type": "code",
      "source": [
        "# converting the prediction probabilities to class label for all test data points\n",
        "y_pred_labels = [np.argmax(i) for i in y_pred]\n",
        "y_pred_labels[:10]"
      ],
      "metadata": {
        "colab": {
          "base_uri": "https://localhost:8080/"
        },
        "id": "woU2cwvjFX5h",
        "outputId": "2fb86c0c-744f-4a8e-c112-a3364523d6c3"
      },
      "execution_count": 71,
      "outputs": [
        {
          "output_type": "execute_result",
          "data": {
            "text/plain": [
              "[np.int64(7),\n",
              " np.int64(2),\n",
              " np.int64(1),\n",
              " np.int64(0),\n",
              " np.int64(4),\n",
              " np.int64(1),\n",
              " np.int64(4),\n",
              " np.int64(9),\n",
              " np.int64(5),\n",
              " np.int64(9)]"
            ]
          },
          "metadata": {},
          "execution_count": 71
        }
      ]
    },
    {
      "cell_type": "markdown",
      "source": [
        "y_test ---> true labels\n",
        "\n",
        "y_pred ---> Predicted labels"
      ],
      "metadata": {
        "id": "H4zuxww9GJo8"
      }
    },
    {
      "cell_type": "code",
      "source": [
        "# Confusion matrix\n",
        "from tensorflow.math import confusion_matrix\n",
        "confusion_matrix = confusion_matrix(y_test, y_pred_labels)\n",
        "confusion_matrix"
      ],
      "metadata": {
        "colab": {
          "base_uri": "https://localhost:8080/"
        },
        "id": "_BclgHQWF5rX",
        "outputId": "db074926-4a50-4187-fcf2-c89717cf6815"
      },
      "execution_count": 72,
      "outputs": [
        {
          "output_type": "execute_result",
          "data": {
            "text/plain": [
              "<tf.Tensor: shape=(10, 10), dtype=int32, numpy=\n",
              "array([[ 964,    0,    1,    1,    0,    0,    6,    1,    4,    3],\n",
              "       [   0, 1116,    5,    1,    0,    0,    2,    3,    8,    0],\n",
              "       [   2,    1, 1004,    7,    1,    1,    2,    8,    4,    2],\n",
              "       [   0,    0,    6,  993,    0,    3,    1,    2,    4,    1],\n",
              "       [   1,    0,    5,    0,  932,    1,    7,    1,    9,   26],\n",
              "       [   1,    0,    0,   23,    0,  843,    7,    1,   13,    4],\n",
              "       [   3,    2,    3,    1,    1,    4,  942,    0,    2,    0],\n",
              "       [   2,    2,    7,    8,    0,    0,    1,  997,    6,    5],\n",
              "       [   3,    0,    3,    4,    1,    3,    2,    3,  954,    1],\n",
              "       [   0,    3,    0,    7,    2,    2,    1,    3,    9,  982]],\n",
              "      dtype=int32)>"
            ]
          },
          "metadata": {},
          "execution_count": 72
        }
      ]
    },
    {
      "cell_type": "code",
      "source": [
        "# Visualize the confusion matrix\n",
        "plt.figure(figsize = (10,8))\n",
        "sns.heatmap(confusion_matrix, annot = True, fmt = \"d\", cmap = \"Blues\")\n",
        "plt.ylabel(\"True Labels\")\n",
        "plt.xlabel(\"Predicted Labels\")"
      ],
      "metadata": {
        "colab": {
          "base_uri": "https://localhost:8080/",
          "height": 713
        },
        "id": "hIBdDWGjGuDH",
        "outputId": "e5401dd3-b58e-468b-cd08-613881a909f9"
      },
      "execution_count": 73,
      "outputs": [
        {
          "output_type": "execute_result",
          "data": {
            "text/plain": [
              "Text(0.5, 58.7222222222222, 'Predicted Labels')"
            ]
          },
          "metadata": {},
          "execution_count": 73
        },
        {
          "output_type": "display_data",
          "data": {
            "text/plain": [
              "<Figure size 1000x800 with 2 Axes>"
            ],
            "image/png": "[encoded data removed]"
          },
          "metadata": {}
        }
      ]
    },
    {
      "cell_type": "markdown",
      "source": [
        "**Building a Predictive system**"
      ],
      "metadata": {
        "id": "92dn6um6H9zB"
      }
    },
    {
      "cell_type": "code",
      "source": [
        "path = \"/content/drive/MyDrive/DL project/MNIST_digit.png\"\n",
        "input_img = cv2.imread(path)"
      ],
      "metadata": {
        "id": "cLojZWInHKos"
      },
      "execution_count": 78,
      "outputs": []
    },
    {
      "cell_type": "code",
      "source": [
        "input_img"
      ],
      "metadata": {
        "colab": {
          "base_uri": "https://localhost:8080/",
          "height": 359
        },
        "id": "14imxgC-IVBS",
        "outputId": "8ff53023-024b-40cd-a045-cd4ffc4f6f5f"
      },
      "execution_count": 79,
      "outputs": [
        {
          "output_type": "execute_result",
          "data": {
            "text/plain": [
              "array([[[0, 0, 0],\n",
              "        [0, 0, 0],\n",
              "        [0, 0, 0],\n",
              "        ...,\n",
              "        [0, 0, 0],\n",
              "        [0, 0, 0],\n",
              "        [0, 0, 0]],\n",
              "\n",
              "       [[0, 0, 0],\n",
              "        [0, 0, 0],\n",
              "        [0, 0, 0],\n",
              "        ...,\n",
              "        [0, 0, 0],\n",
              "        [0, 0, 0],\n",
              "        [0, 0, 0]],\n",
              "\n",
              "       [[0, 0, 0],\n",
              "        [0, 0, 0],\n",
              "        [0, 0, 0],\n",
              "        ...,\n",
              "        [0, 0, 0],\n",
              "        [0, 0, 0],\n",
              "        [0, 0, 0]],\n",
              "\n",
              "       ...,\n",
              "\n",
              "       [[0, 0, 0],\n",
              "        [0, 0, 0],\n",
              "        [0, 0, 0],\n",
              "        ...,\n",
              "        [0, 0, 0],\n",
              "        [0, 0, 0],\n",
              "        [0, 0, 0]],\n",
              "\n",
              "       [[0, 0, 0],\n",
              "        [0, 0, 0],\n",
              "        [0, 0, 0],\n",
              "        ...,\n",
              "        [0, 0, 0],\n",
              "        [0, 0, 0],\n",
              "        [0, 0, 0]],\n",
              "\n",
              "       [[0, 0, 0],\n",
              "        [0, 0, 0],\n",
              "        [0, 0, 0],\n",
              "        ...,\n",
              "        [0, 0, 0],\n",
              "        [0, 0, 0],\n",
              "        [0, 0, 0]]], dtype=uint8)"
            ],
            "text/html": [
              "<style>\n",
              "      .ndarray_repr .ndarray_raw_data {\n",
              "        display: none;\n",
              "      }\n",
              "      .ndarray_repr.show_array .ndarray_raw_data {\n",
              "        display: block;\n",
              "      }\n",
              "      .ndarray_repr.show_array .ndarray_image_preview {\n",
              "        display: none;\n",
              "      }\n",
              "      </style>\n",
              "      <div id=\"id-0c65bba2-e0a0-42f4-8c71-c0c97f3c762d\" class=\"ndarray_repr\"><pre>ndarray (318, 318, 3) <button style=\"padding: 0 2px;\">show data</button></pre><img src=\"data:image/png;base64,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\" class=\"ndarray_image_preview\" /><pre class=\"ndarray_raw_data\">array([[[0, 0, 0],\n",
              "        [0, 0, 0],\n",
              "        [0, 0, 0],\n",
              "        ...,\n",
              "        [0, 0, 0],\n",
              "        [0, 0, 0],\n",
              "        [0, 0, 0]],\n",
              "\n",
              "       [[0, 0, 0],\n",
              "        [0, 0, 0],\n",
              "        [0, 0, 0],\n",
              "        ...,\n",
              "        [0, 0, 0],\n",
              "        [0, 0, 0],\n",
              "        [0, 0, 0]],\n",
              "\n",
              "       [[0, 0, 0],\n",
              "        [0, 0, 0],\n",
              "        [0, 0, 0],\n",
              "        ...,\n",
              "        [0, 0, 0],\n",
              "        [0, 0, 0],\n",
              "        [0, 0, 0]],\n",
              "\n",
              "       ...,\n",
              "\n",
              "       [[0, 0, 0],\n",
              "        [0, 0, 0],\n",
              "        [0, 0, 0],\n",
              "        ...,\n",
              "        [0, 0, 0],\n",
              "        [0, 0, 0],\n",
              "        [0, 0, 0]],\n",
              "\n",
              "       [[0, 0, 0],\n",
              "        [0, 0, 0],\n",
              "        [0, 0, 0],\n",
              "        ...,\n",
              "        [0, 0, 0],\n",
              "        [0, 0, 0],\n",
              "        [0, 0, 0]],\n",
              "\n",
              "       [[0, 0, 0],\n",
              "        [0, 0, 0],\n",
              "        [0, 0, 0],\n",
              "        ...,\n",
              "        [0, 0, 0],\n",
              "        [0, 0, 0],\n",
              "        [0, 0, 0]]], dtype=uint8)</pre></div><script>\n",
              "      (() => {\n",
              "      const titles = ['show data', 'hide data'];\n",
              "      let index = 0\n",
              "      document.querySelector('#id-0c65bba2-e0a0-42f4-8c71-c0c97f3c762d button').onclick = (e) => {\n",
              "        document.querySelector('#id-0c65bba2-e0a0-42f4-8c71-c0c97f3c762d').classList.toggle('show_array');\n",
              "        index = (++index) % 2;\n",
              "        document.querySelector('#id-0c65bba2-e0a0-42f4-8c71-c0c97f3c762d button').textContent = titles[index];\n",
              "        e.preventDefault();\n",
              "        e.stopPropagation();\n",
              "      }\n",
              "      })();\n",
              "    </script>"
            ]
          },
          "metadata": {},
          "execution_count": 79
        }
      ]
    },
    {
      "cell_type": "code",
      "source": [
        "input_img.shape"
      ],
      "metadata": {
        "colab": {
          "base_uri": "https://localhost:8080/"
        },
        "id": "mJjo-q0LIYia",
        "outputId": "d25be5a4-d282-44d8-e51b-0bf7ab028827"
      },
      "execution_count": 80,
      "outputs": [
        {
          "output_type": "execute_result",
          "data": {
            "text/plain": [
              "(318, 318, 3)"
            ]
          },
          "metadata": {},
          "execution_count": 80
        }
      ]
    },
    {
      "cell_type": "code",
      "source": [
        "grayscale = cv2.cvtColor(input_img, cv2.COLOR_RGB2GRAY)"
      ],
      "metadata": {
        "id": "eShgfPvoIn1K"
      },
      "execution_count": 81,
      "outputs": []
    },
    {
      "cell_type": "code",
      "source": [
        "cv2_imshow(grayscale)"
      ],
      "metadata": {
        "colab": {
          "base_uri": "https://localhost:8080/",
          "height": 335
        },
        "id": "SLt0vJDSI3WA",
        "outputId": "15dead1b-0e8a-4856-9f15-8e63969629d3"
      },
      "execution_count": 82,
      "outputs": [
        {
          "output_type": "display_data",
          "data": {
            "text/plain": [
              "<PIL.Image.Image image mode=L size=318x318>"
            ],
            "image/png": "[encoded data removed]",
            "image/jpeg": "[encoded data removed]"
          },
          "metadata": {}
        }
      ]
    },
    {
      "cell_type": "code",
      "source": [
        "grayscale.shape"
      ],
      "metadata": {
        "colab": {
          "base_uri": "https://localhost:8080/"
        },
        "id": "URMM3AiWI-Eu",
        "outputId": "27d1f23b-bab3-4d1d-bfac-65169620c5b8"
      },
      "execution_count": 83,
      "outputs": [
        {
          "output_type": "execute_result",
          "data": {
            "text/plain": [
              "(318, 318)"
            ]
          },
          "metadata": {},
          "execution_count": 83
        }
      ]
    },
    {
      "cell_type": "code",
      "source": [
        "img_resized = cv2.resize(grayscale, (28,28))"
      ],
      "metadata": {
        "id": "zFIpyLZYJBCV"
      },
      "execution_count": 84,
      "outputs": []
    },
    {
      "cell_type": "code",
      "source": [
        "img_resized.shape"
      ],
      "metadata": {
        "colab": {
          "base_uri": "https://localhost:8080/"
        },
        "id": "L801G6mZJHYy",
        "outputId": "06ff6a07-9f7f-4e49-a56d-b6239a000d9f"
      },
      "execution_count": 85,
      "outputs": [
        {
          "output_type": "execute_result",
          "data": {
            "text/plain": [
              "(28, 28)"
            ]
          },
          "metadata": {},
          "execution_count": 85
        }
      ]
    },
    {
      "cell_type": "code",
      "source": [
        "cv2_imshow(img_resized)"
      ],
      "metadata": {
        "colab": {
          "base_uri": "https://localhost:8080/",
          "height": 45
        },
        "id": "5H610VekJc2c",
        "outputId": "90d7160a-f6c1-48c0-f685-44989dc6966d"
      },
      "execution_count": 86,
      "outputs": [
        {
          "output_type": "display_data",
          "data": {
            "text/plain": [
              "<PIL.Image.Image image mode=L size=28x28>"
            ],
            "image/png": "[encoded data removed]",
            "image/jpeg": "[encoded data removed]"
          },
          "metadata": {}
        }
      ]
    },
    {
      "cell_type": "code",
      "source": [
        "img_resized = img_resized/255"
      ],
      "metadata": {
        "id": "QfASr21ZJgpM"
      },
      "execution_count": 87,
      "outputs": []
    },
    {
      "cell_type": "code",
      "source": [
        "img_resized = np.reshape(img_resized, (1,28,28))"
      ],
      "metadata": {
        "id": "g1dyxEw6Jq_i"
      },
      "execution_count": 88,
      "outputs": []
    },
    {
      "cell_type": "code",
      "source": [
        "input_pred = model.predict(img_resized)\n",
        "input_pred"
      ],
      "metadata": {
        "colab": {
          "base_uri": "https://localhost:8080/"
        },
        "id": "vILrSYicKBud",
        "outputId": "c1f5a32b-ff24-4bb6-f23b-bdddd25ce914"
      },
      "execution_count": 89,
      "outputs": [
        {
          "output_type": "stream",
          "name": "stdout",
          "text": [
            "\u001b[1m1/1\u001b[0m \u001b[32m━━━━━━━━━━━━━━━━━━━━\u001b[0m\u001b[37m\u001b[0m \u001b[1m0s\u001b[0m 41ms/step\n"
          ]
        },
        {
          "output_type": "execute_result",
          "data": {
            "text/plain": [
              "array([[3.0074877e-11, 1.4394237e-06, 1.8373810e-04, 1.0000000e+00,\n",
              "        2.4897946e-17, 9.5865861e-02, 4.0017007e-21, 2.2872689e-05,\n",
              "        1.6880271e-03, 5.5764848e-01]], dtype=float32)"
            ]
          },
          "metadata": {},
          "execution_count": 89
        }
      ]
    },
    {
      "cell_type": "code",
      "source": [
        "input_pred_label = np.argmax(input_pred)\n",
        "input_pred_label"
      ],
      "metadata": {
        "colab": {
          "base_uri": "https://localhost:8080/"
        },
        "id": "cvoYH_RfKK7w",
        "outputId": "636a618c-e491-4216-fd49-82bd95727ec3"
      },
      "execution_count": 90,
      "outputs": [
        {
          "output_type": "execute_result",
          "data": {
            "text/plain": [
              "np.int64(3)"
            ]
          },
          "metadata": {},
          "execution_count": 90
        }
      ]
    },
    {
      "cell_type": "markdown",
      "source": [
        "**Predicitve system**"
      ],
      "metadata": {
        "id": "RBXhEDrRKaVs"
      }
    },
    {
      "cell_type": "code",
      "source": [
        "def prediction(path):\n",
        "  input_img_path = path\n",
        "  input_img = cv2.imread(input_img_path)\n",
        "  cv2_imshow(input_img)\n",
        "  grayscale = cv2.cvtColor(input_img, cv2.COLOR_RGB2GRAY)\n",
        "\n",
        "  img_resized = cv2.resize(grayscale, (28,28))\n",
        "  img_resized = img_resized/255\n",
        "\n",
        "  img_reshape = np.reshape(img_resized, (1,28,28))\n",
        "\n",
        "  input_pred = model.predict(img_reshape)\n",
        "  input_pred_label = np.argmax(input_pred)\n",
        "\n",
        "  print(\"The Handwritten Digit is : \", input_pred_label )"
      ],
      "metadata": {
        "id": "lpKpiKx0LRxc"
      },
      "execution_count": 91,
      "outputs": []
    },
    {
      "cell_type": "code",
      "source": [
        "prediction(path)"
      ],
      "metadata": {
        "colab": {
          "base_uri": "https://localhost:8080/",
          "height": 370
        },
        "id": "qOxc_KM4LaPg",
        "outputId": "2dda4dff-182f-4db0-eb4a-7594c27fa4d1"
      },
      "execution_count": 92,
      "outputs": [
        {
          "output_type": "display_data",
          "data": {
            "text/plain": [
              "<PIL.Image.Image image mode=RGB size=318x318>"
            ],
            "image/png": "[encoded data removed]",
            "image/jpeg": "[encoded data removed]"
          },
          "metadata": {}
        },
        {
          "output_type": "stream",
          "name": "stdout",
          "text": [
            "\u001b[1m1/1\u001b[0m \u001b[32m━━━━━━━━━━━━━━━━━━━━\u001b[0m\u001b[37m\u001b[0m \u001b[1m0s\u001b[0m 45ms/step\n",
            "The Handwritten Digit is :  3\n"
          ]
        }
      ]
    }
  ]
}